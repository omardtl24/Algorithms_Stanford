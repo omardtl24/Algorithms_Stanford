{
 "cells": [
  {
   "cell_type": "markdown",
   "id": "de4ea7fe",
   "metadata": {},
   "source": [
    "# Introduction - Solving problems with algorithms"
   ]
  },
  {
   "cell_type": "markdown",
   "id": "84a4b92c",
   "metadata": {},
   "source": [
    "What's the product of the following two 64-digit numbers?\n",
    "\n",
    "3141592653589793238462643383279502884197169399375105820974944592\n",
    "\n",
    "2718281828459045235360287471352662497757247093699959574966967627"
   ]
  },
  {
   "cell_type": "markdown",
   "id": "588f6bd6",
   "metadata": {},
   "source": [
    "For this task, we will focus on implement the Karatsuba's algorithm as it seems more challenging to do.\n",
    "\n",
    "As a summary of the algorithm, we will compute the following expression given $x$ and $y$ as numbers of the same length $n$:\n",
    "\n",
    "$$x = 10^{\\frac{n}{2}} a + b \\quad \\quad y = 10^{\\frac{n}{2}} c + d$$\n",
    "\n",
    "$$x \\cdot y = 10^{n} a \\cdot c + 10^{\\frac{n}{2}} (a \\cdot d + b \\cdot c) + b \\cdot d$$\n",
    "\n",
    "using just three recursive calls (Thanks to gauss trick)"
   ]
  },
  {
   "cell_type": "code",
   "execution_count": 10,
   "id": "5b3276a7",
   "metadata": {},
   "outputs": [],
   "source": [
    "def Karatsuba(x, y):\n",
    "    \"\"\"\n",
    "    Karatsuba multiplication algorithm.\n",
    "    \n",
    "    Arguments:\n",
    "        x -- first number to multiply\n",
    "        y -- second number to multiply\n",
    "    \n",
    "    Returns:\n",
    "        The product of x and y using the Karatsuba algorithm.\n",
    "    \"\"\"\n",
    "    # Base case for recursion\n",
    "    # If the numbers are single digits, return the product directly\n",
    "    if x < 10 or y < 10:\n",
    "        return x * y\n",
    "\n",
    "    # Calculate the size of the numbers\n",
    "    max_len = max(len(str(x)), len(str(y)))\n",
    "    half_len = max_len // 2\n",
    "\n",
    "    # Split the digit sequences in the middle\n",
    "    high1, low1 = divmod(x, 10 ** half_len)\n",
    "    high2, low2 = divmod(y, 10 ** half_len)\n",
    "\n",
    "    # 3 calls made to numbers approximately half the size\n",
    "    z0 = Karatsuba(low1, low2)\n",
    "    z1 = Karatsuba((low1 + high1), (low2 + high2))\n",
    "    z2 = Karatsuba(high1, high2)\n",
    "\n",
    "    # Combine the three products using the formula and Gauss trick\n",
    "    return (z2 * 10 ** (2 * half_len)) + ((z1 - z2 - z0) * 10 ** half_len) + z0"
   ]
  },
  {
   "cell_type": "markdown",
   "id": "38b1e165",
   "metadata": {},
   "source": [
    "We will check our solution using a simple example (More exactly the same example that was shown in the course)"
   ]
  },
  {
   "cell_type": "code",
   "execution_count": 11,
   "id": "e865952d",
   "metadata": {},
   "outputs": [
    {
     "name": "stdout",
     "output_type": "stream",
     "text": [
      "1234 * 5678 = 7006652\n"
     ]
    }
   ],
   "source": [
    "x = 1234\n",
    "y = 5678\n",
    "xy = Karatsuba(x,y)\n",
    "\n",
    "print(f\"{x} * {y} = {xy}\")"
   ]
  },
  {
   "cell_type": "markdown",
   "id": "8b51c64c",
   "metadata": {},
   "source": [
    "Now we will apply our result to the challenge task"
   ]
  },
  {
   "cell_type": "code",
   "execution_count": 12,
   "id": "ffe5bb84",
   "metadata": {},
   "outputs": [
    {
     "name": "stdout",
     "output_type": "stream",
     "text": [
      "Result for task:\n",
      "8539734222673567065463550869546574495034888535765114961879601127067743044893204848617875072216249073013374895871952806582723184\n"
     ]
    }
   ],
   "source": [
    "x = 3141592653589793238462643383279502884197169399375105820974944592\n",
    "y = 2718281828459045235360287471352662497757247093699959574966967627\n",
    "xy = Karatsuba(x,y)\n",
    "\n",
    "print(f'Result for task:\\n{xy}')"
   ]
  },
  {
   "cell_type": "markdown",
   "id": "616e54e7",
   "metadata": {},
   "source": [
    "Just as a test, we will compare the current python multiplication vs the algorithm we designed to see which of them works better"
   ]
  },
  {
   "cell_type": "code",
   "execution_count": 16,
   "id": "3be7776f",
   "metadata": {},
   "outputs": [
    {
     "name": "stdout",
     "output_type": "stream",
     "text": [
      "132 ns ± 25.4 ns per loop (mean ± std. dev. of 1000 runs, 10 loops each)\n"
     ]
    }
   ],
   "source": [
    "%%timeit -n 10 -r 1000\n",
    "\n",
    "x*y"
   ]
  },
  {
   "cell_type": "code",
   "execution_count": 17,
   "id": "63a00d6e",
   "metadata": {},
   "outputs": [
    {
     "name": "stdout",
     "output_type": "stream",
     "text": [
      "477 µs ± 30.2 µs per loop (mean ± std. dev. of 1000 runs, 10 loops each)\n"
     ]
    }
   ],
   "source": [
    "%%timeit -n 10 -r 1000\n",
    "\n",
    "Karatsuba(x,y)"
   ]
  },
  {
   "cell_type": "markdown",
   "id": "f5aaadb1",
   "metadata": {},
   "source": [
    "In this case, python operator shows a better time performance than the Karatsuba implementation"
   ]
  }
 ],
 "metadata": {
  "kernelspec": {
   "display_name": "Python 3",
   "language": "python",
   "name": "python3"
  },
  "language_info": {
   "codemirror_mode": {
    "name": "ipython",
    "version": 3
   },
   "file_extension": ".py",
   "mimetype": "text/x-python",
   "name": "python",
   "nbconvert_exporter": "python",
   "pygments_lexer": "ipython3",
   "version": "3.11.9"
  }
 },
 "nbformat": 4,
 "nbformat_minor": 5
}
