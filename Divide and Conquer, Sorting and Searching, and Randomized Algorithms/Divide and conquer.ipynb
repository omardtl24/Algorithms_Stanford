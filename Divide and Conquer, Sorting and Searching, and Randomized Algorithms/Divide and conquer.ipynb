{
 "cells": [
  {
   "cell_type": "markdown",
   "id": "fbc07a4c",
   "metadata": {},
   "source": [
    "## Divide and Conquer algorithms"
   ]
  },
  {
   "cell_type": "markdown",
   "id": "7ce7eebb",
   "metadata": {},
   "source": [
    "**Input**: File that contains all of the 100,000 integers between 1 and 100,000 (inclusive) in some order, with no integer repeated.\n",
    "\n",
    "Your task is to compute the number of inversions in the file given, where the $i^{th}$ row of the file indicates the $i^{th}$ entry of an array."
   ]
  },
  {
   "cell_type": "code",
   "execution_count": 1,
   "id": "a9cc6f68",
   "metadata": {},
   "outputs": [],
   "source": [
    "import numpy as np\n",
    "\n",
    "def merge_count(A, B):\n",
    "    '''\n",
    "    Merge two sorted arrays A and B into a single sorted array C.\n",
    "    Count the number of inversions in the merged array.\n",
    "    An inversion is a pair of indices (i, j) such that i < j and A[i] > A[j].\n",
    "    \n",
    "    Arguments:\n",
    "    A -- sorted array of integers\n",
    "    B -- sorted array of integers\n",
    "    \n",
    "    Returns:\n",
    "    C -- merged sorted array of integers\n",
    "    count -- number of inversions in the merged array\n",
    "    '''\n",
    "    #Initialize indices for A, B and C\n",
    "    i = j = k = 0\n",
    "    count = 0\n",
    "    C = np.empty(len(A) + len(B), dtype=int)\n",
    "\n",
    "    #Fill sorted array C with elements from A and B\n",
    "    #using merge sort strategy\n",
    "    while i < len(A) and j < len(B):\n",
    "        if A[i] <= B[j]:\n",
    "            C[k] = A[i]\n",
    "            i += 1\n",
    "        else:\n",
    "            C[k] = B[j]\n",
    "            # Count inversions: all remaining elements in A are greater than B[j]\n",
    "            count += len(A) - i\n",
    "            j += 1\n",
    "        k += 1\n",
    "    while i < len(A):\n",
    "        C[k] = A[i]\n",
    "        i += 1\n",
    "        k += 1\n",
    "    while j < len(B):\n",
    "        C[k] = B[j]\n",
    "        j += 1\n",
    "        k += 1\n",
    "    return C, count\n",
    "\n",
    "def sort_count(A):\n",
    "    '''\n",
    "    Sort the array A and count the number of inversions using a modified merge sort.\n",
    "    \n",
    "    Arguments:\n",
    "        A -- array of integers\n",
    "    \n",
    "    Returns:\n",
    "        A_sorted -- sorted array of integers\n",
    "        count -- number of inversions in the array\n",
    "    '''\n",
    "    #Case when A is empty or has one element\n",
    "    #In this case, there are no inversions\n",
    "    if len(A)<=1:\n",
    "        return A , 0\n",
    "    #Recursively sort and count inversions in left and right halves\n",
    "    A_left , left_count = sort_count(A[:len(A)//2])\n",
    "    A_right , right_count = sort_count(A[len(A)//2:])\n",
    "    #Merge sorted halves and count inversions across the two halves\n",
    "    A_sorted , merge_count_ = merge_count(A_left, A_right)\n",
    "    return A_sorted , left_count + right_count + merge_count_"
   ]
  },
  {
   "cell_type": "code",
   "execution_count": null,
   "id": "157aaf6f",
   "metadata": {},
   "outputs": [
    {
     "name": "stdout",
     "output_type": "stream",
     "text": [
      "Data: [54044 14108 79294 ... 74018 71187 91901]\n",
      "Length: 100000\n"
     ]
    }
   ],
   "source": [
    "#The file text must be in the same directory as this script\n",
    "#The file must be named IntegerArray.txt\n",
    "#The file must contain integers separated by new lines\n",
    "#The file used is the same as generated at the course but will not be provided in this repository\n",
    "#The file is not too big so it can be read in memory\n",
    "\n",
    "filename = 'IntegerArray.txt'\n",
    "with open(filename, 'r') as file:\n",
    "        lines = file.readlines()\n",
    "        A = [int(line.strip()) for line in lines]\n",
    "        A = np.array(A)\n",
    "\n",
    "print(f'Data: {A}')\n",
    "print(f'Length: {len(A)}')"
   ]
  },
  {
   "cell_type": "code",
   "execution_count": 3,
   "id": "33257257",
   "metadata": {},
   "outputs": [
    {
     "name": "stdout",
     "output_type": "stream",
     "text": [
      "Is sorted: True\n",
      "Number of inversions: 2407905288\n"
     ]
    }
   ],
   "source": [
    "#Apply merge sort and count inversions\n",
    "sorted_A, count = sort_count(A)\n",
    "\n",
    "#First check if array is sorted\n",
    "is_sorted = np.all(np.diff(sorted_A) >= 0)\n",
    "print(\"Is sorted:\", is_sorted)\n",
    "\n",
    "#If sorted, print the number of inversions\n",
    "if is_sorted:\n",
    "    print(\"Number of inversions:\", count)\n",
    "else:\n",
    "    print(\"Array is not sorted correctly.\")"
   ]
  }
 ],
 "metadata": {
  "kernelspec": {
   "display_name": "Python 3",
   "language": "python",
   "name": "python3"
  },
  "language_info": {
   "codemirror_mode": {
    "name": "ipython",
    "version": 3
   },
   "file_extension": ".py",
   "mimetype": "text/x-python",
   "name": "python",
   "nbconvert_exporter": "python",
   "pygments_lexer": "ipython3",
   "version": "3.11.9"
  }
 },
 "nbformat": 4,
 "nbformat_minor": 5
}
