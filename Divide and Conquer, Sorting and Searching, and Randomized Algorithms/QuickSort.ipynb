{
 "cells": [
  {
   "cell_type": "markdown",
   "id": "5e3091ee",
   "metadata": {},
   "source": [
    "# QuickSort"
   ]
  },
  {
   "cell_type": "markdown",
   "id": "9f6b0c33",
   "metadata": {},
   "source": [
    " Your task is to compute the total number of comparisons used to sort the given input file by QuickSort.  As you know, the number of comparisons depends on which elements are chosen as pivots, so we'll ask you to explore three different pivoting rules.\n",
    "\n",
    "You should not count comparisons one-by-one.  Rather, when there is a recursive call on a subarray of length $m$, you should simply add $m-1$ to your running total of comparisons. (This is because the pivot element is compared to each of the other $m-1$ elements in the subarray in this recursive call.)"
   ]
  },
  {
   "cell_type": "code",
   "execution_count": 123,
   "id": "8c2915db",
   "metadata": {},
   "outputs": [],
   "source": [
    "import numpy as np\n",
    "\n",
    "def choosePivot(arr, low, high):\n",
    "    '''\n",
    "    Choose the pivot for the quicksort algorithm.\n",
    "    \n",
    "    This first function is just as base for the structure\n",
    "    its purpose is to be replaces based on criterias.\n",
    "\n",
    "    It returns the index of the pivot element.\n",
    "    '''\n",
    "    return\n",
    "\n",
    "def partition(arr, low, high):\n",
    "    '''Partition the array around the pivot element.\n",
    "    \n",
    "    Arguments:\n",
    "        arr -- the array to be sorted\n",
    "        low -- the starting index of the subarray\n",
    "        high -- the ending index of the subarray\n",
    "    \n",
    "    Returns:\n",
    "        The index of the pivot element after partitioning.\n",
    "        Number of comparisons made.\n",
    "    '''\n",
    "    #Choose pivot using the function defined above\n",
    "    pivot_index = choosePivot(arr, low, high)\n",
    "    pivot = arr[pivot_index]\n",
    "    #Move pivot to the beggining of the subarray \n",
    "    #(To mantain same stricture as the original code)\n",
    "    if pivot_index!=low: arr[pivot_index], arr[low] = arr[low], arr[pivot_index]\n",
    "    #Apply inplace swapping and count comparisons\n",
    "    i = low + 1\n",
    "    for j in range(low+1, high+1):\n",
    "        if arr[j] < pivot:\n",
    "            arr[i], arr[j] = arr[j], arr[i]\n",
    "            i += 1\n",
    "    #Swap the pivot element with the element at index i-1\n",
    "    arr[i - 1], arr[low] = arr[low], arr[i - 1]\n",
    "    count_comparisons = high - low\n",
    "    #Return the index of the pivot element and the number of comparisons made\n",
    "    return i - 1 , count_comparisons\n",
    "\n",
    "def quickSort(arr, low, high):\n",
    "    '''Sort the array using the quicksort algorithm.\n",
    "    \n",
    "    Arguments:\n",
    "        arr -- the array to be sorted\n",
    "        low -- the starting index of the subarray\n",
    "        high -- the ending index of the subarray\n",
    "    \n",
    "    Returns:\n",
    "        The number of comparisons made during the sorting process.\n",
    "    '''\n",
    "    if low < high:\n",
    "        #Partition the array and get the pivot index\n",
    "        pi , count = partition(arr, low, high)\n",
    "        #Recursively sort the subarrays\n",
    "        cl = quickSort(arr, low, pi - 1)\n",
    "        cr = quickSort(arr, pi + 1, high)\n",
    "        return count + cl + cr\n",
    "    return 0"
   ]
  },
  {
   "cell_type": "markdown",
   "id": "e48bd918",
   "metadata": {},
   "source": [
    "Now we will load our data to test and we will make a small example to check"
   ]
  },
  {
   "cell_type": "code",
   "execution_count": 124,
   "id": "98cf0bc9",
   "metadata": {},
   "outputs": [
    {
     "name": "stdout",
     "output_type": "stream",
     "text": [
      "Data: [2148 9058 7742 ... 7266 5792 9269]\n",
      "Length: 10000\n"
     ]
    }
   ],
   "source": [
    "#The file text must be in the same directory as this script\n",
    "#The file must be named IntegerArray.txt\n",
    "#The file must contain integers separated by new lines\n",
    "#The file used is the same as generated at the course but will not be provided in this repository\n",
    "#The file is not too big so it can be read in memory\n",
    "def loadFile():\n",
    "        filename = 'QuickSort.txt'\n",
    "        with open(filename, 'r') as file:\n",
    "                lines = file.readlines()\n",
    "                A = [int(line.strip()) for line in lines]\n",
    "                A = np.array(A)\n",
    "                return A\n",
    "\n",
    "A = loadFile()\n",
    "print(f'Data: {A}')\n",
    "print(f'Length: {len(A)}')"
   ]
  },
  {
   "cell_type": "code",
   "execution_count": 125,
   "id": "052d1273",
   "metadata": {},
   "outputs": [
    {
     "name": "stdout",
     "output_type": "stream",
     "text": [
      "Data: [3 7 8 9 1 5]\n",
      "Length: 6\n"
     ]
    }
   ],
   "source": [
    "arr = np.array([3, 7, 8, 9, 1, 5])\n",
    "print(f'Data: {arr}')\n",
    "print(f'Length: {len(arr)}')"
   ]
  },
  {
   "cell_type": "markdown",
   "id": "80725ab9",
   "metadata": {},
   "source": [
    "For the first part of the programming assignment, you should always use the first element of the array as the pivot element."
   ]
  },
  {
   "cell_type": "code",
   "execution_count": 126,
   "id": "f2da061e",
   "metadata": {},
   "outputs": [],
   "source": [
    "def choosePivot(arr, low, high):\n",
    "    '''\n",
    "    Choose the pivot for the quicksort algorithm using the first subarray element.\n",
    "    \n",
    "    Arguments:\n",
    "        arr -- the array to be sorted\n",
    "        low -- the starting index of the subarray\n",
    "        high -- the ending index of the subarray\n",
    "    \n",
    "    Returns:\n",
    "        The index of the pivot element.\n",
    "    '''\n",
    "    return low"
   ]
  },
  {
   "cell_type": "code",
   "execution_count": 127,
   "id": "63320b3e",
   "metadata": {},
   "outputs": [
    {
     "name": "stdout",
     "output_type": "stream",
     "text": [
      "Sorted: [1 3 5 7 8 9]\n",
      "Comparisons: 9\n"
     ]
    }
   ],
   "source": [
    "a = arr.copy()\n",
    "c = quickSort(a, 0, len(a) - 1)\n",
    "\n",
    "print(f'Sorted: {a}')\n",
    "print(f'Comparisons: {c}')"
   ]
  },
  {
   "cell_type": "code",
   "execution_count": 128,
   "id": "dfa2ede1",
   "metadata": {},
   "outputs": [
    {
     "name": "stdout",
     "output_type": "stream",
     "text": [
      "Sorted: [    1     2     3 ...  9998  9999 10000]\n",
      "Comparisons: 162085\n"
     ]
    }
   ],
   "source": [
    "a = loadFile()\n",
    "c = quickSort(a, 0, len(a) - 1)\n",
    "\n",
    "print(f'Sorted: {a}')\n",
    "print(f'Comparisons: {c}')"
   ]
  },
  {
   "cell_type": "markdown",
   "id": "66b03617",
   "metadata": {},
   "source": [
    "Compute the number of comparisons (as in Problem 1), always using the final element of the given array as the pivot element. "
   ]
  },
  {
   "cell_type": "code",
   "execution_count": 129,
   "id": "4c059bc8",
   "metadata": {},
   "outputs": [],
   "source": [
    "def choosePivot(arr, low, high):\n",
    "    '''\n",
    "    Choose the pivot for the quicksort algorithm using the last subarray element.\n",
    "    \n",
    "    Arguments:\n",
    "        arr -- the array to be sorted\n",
    "        low -- the starting index of the subarray\n",
    "        high -- the ending index of the subarray\n",
    "    \n",
    "    Returns:\n",
    "        The index of the pivot element.\n",
    "    '''\n",
    "    return high"
   ]
  },
  {
   "cell_type": "code",
   "execution_count": 130,
   "id": "13555e81",
   "metadata": {},
   "outputs": [
    {
     "name": "stdout",
     "output_type": "stream",
     "text": [
      "Sorted: [1 3 5 7 8 9]\n",
      "Comparisons: 8\n"
     ]
    }
   ],
   "source": [
    "a = arr.copy()\n",
    "c = quickSort(a, 0, len(a) - 1)\n",
    "\n",
    "print(f'Sorted: {a}')\n",
    "print(f'Comparisons: {c}')"
   ]
  },
  {
   "cell_type": "code",
   "execution_count": 131,
   "id": "b0d4bfdb",
   "metadata": {},
   "outputs": [
    {
     "name": "stdout",
     "output_type": "stream",
     "text": [
      "Sorted: [    1     2     3 ...  9998  9999 10000]\n",
      "Comparisons: 164123\n"
     ]
    }
   ],
   "source": [
    "a = loadFile()\n",
    "c = quickSort(a, 0, len(a) - 1)\n",
    "\n",
    "print(f'Sorted: {a}')\n",
    "print(f'Comparisons: {c}')"
   ]
  },
  {
   "cell_type": "markdown",
   "id": "8e5d1c27",
   "metadata": {},
   "source": [
    "Compute the number of comparisons (as in Problem 1), using the \"median-of-three\" pivot rule.  [The primary motivation behind this rule is to do a little bit of extra work to get much better performance on input arrays that are nearly sorted or reverse sorted.]  In more detail, you should choose the pivot as follows.  Consider the first, middle, and final elements of the given array.  (If the array has odd length it should be clear what the \"middle\" element is; for an array with even length $2k$ use the $k^{th}$ element as the \"middle\" element. So for the array 4 5 6 7,  the \"middle\" element is the second one ---- 5 and not 6!)  Identify which of these three elements is the median (i.e., the one whose value is in between the other two), and use this as your pivot."
   ]
  },
  {
   "cell_type": "code",
   "execution_count": 132,
   "id": "bbb10e4d",
   "metadata": {},
   "outputs": [],
   "source": [
    "def choosePivot(arr, low, high):\n",
    "    '''\n",
    "    Choose the pivot for the quicksort algorithm using the median-of-three rule.\n",
    "    \n",
    "    Arguments:\n",
    "        arr -- the array to be sorted\n",
    "        low -- the starting index of the subarray\n",
    "        high -- the ending index of the subarray\n",
    "    \n",
    "    Returns:\n",
    "        The index of the pivot element.\n",
    "    '''\n",
    "    mid  = (low + high) // 2\n",
    "    a,b,c = arr[low], arr[mid], arr[high]\n",
    "    trio = [(a, low), (b, mid), (c, high)]\n",
    "    trio_sorted = sorted(trio, key=lambda x: x[0])\n",
    "    return trio_sorted[1][1]"
   ]
  },
  {
   "cell_type": "code",
   "execution_count": 133,
   "id": "39e08161",
   "metadata": {},
   "outputs": [
    {
     "name": "stdout",
     "output_type": "stream",
     "text": [
      "Sorted: [1 3 5 7 8 9]\n",
      "Comparisons: 8\n"
     ]
    }
   ],
   "source": [
    "a = arr.copy()\n",
    "c = quickSort(a, 0, len(a) - 1)\n",
    "\n",
    "print(f'Sorted: {a}')\n",
    "print(f'Comparisons: {c}')"
   ]
  },
  {
   "cell_type": "code",
   "execution_count": 134,
   "id": "f3a2cd79",
   "metadata": {},
   "outputs": [
    {
     "name": "stdout",
     "output_type": "stream",
     "text": [
      "Sorted: [    1     2     3 ...  9998  9999 10000]\n",
      "Comparisons: 138382\n"
     ]
    }
   ],
   "source": [
    "a = loadFile()\n",
    "c = quickSort(a, 0, len(a) - 1)\n",
    "\n",
    "print(f'Sorted: {a}')\n",
    "print(f'Comparisons: {c}')"
   ]
  }
 ],
 "metadata": {
  "kernelspec": {
   "display_name": "Python 3",
   "language": "python",
   "name": "python3"
  },
  "language_info": {
   "codemirror_mode": {
    "name": "ipython",
    "version": 3
   },
   "file_extension": ".py",
   "mimetype": "text/x-python",
   "name": "python",
   "nbconvert_exporter": "python",
   "pygments_lexer": "ipython3",
   "version": "3.11.9"
  }
 },
 "nbformat": 4,
 "nbformat_minor": 5
}
