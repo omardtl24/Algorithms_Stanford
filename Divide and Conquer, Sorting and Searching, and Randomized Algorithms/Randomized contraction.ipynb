{
 "cells": [
  {
   "cell_type": "markdown",
   "id": "e7ae0b5d",
   "metadata": {},
   "source": [
    "# Randomized Contraction"
   ]
  },
  {
   "cell_type": "markdown",
   "id": "1f7bfde8",
   "metadata": {},
   "source": [
    "Your task is to code up and run the randomized contraction algorithm for the min cut problem and use it on the above graph to compute the min cut.  (HINT: Note that you'll have to figure out an implementation of edge contractions.  Initially, you might want to do this naively, creating a new graph from the old every time there's an edge contraction.  But you should also think about more efficient implementations.) "
   ]
  },
  {
   "cell_type": "markdown",
   "id": "9bfebd8f",
   "metadata": {},
   "source": [
    "We will define an \"inplace\" contraction routine so that we may not overuse RAM memory"
   ]
  },
  {
   "cell_type": "code",
   "execution_count": 1,
   "id": "06e52e6d",
   "metadata": {},
   "outputs": [],
   "source": [
    "class Graph():\n",
    "    def __init__(self, dict_of_lists):\n",
    "        \"\"\"\n",
    "        Initialize the graph with an adjacency list.\n",
    "\n",
    "        Arguments:\n",
    "            dict_of_lists (dict): Dictionary where keys are vertices and values are lists of adjacent vertices.\n",
    "        \"\"\"\n",
    "        self.graph = dict_of_lists\n",
    "        self.v = len(dict_of_lists.keys())\n",
    "\n",
    "    def copy(self):\n",
    "        \"\"\"\n",
    "        Create a deep copy of the graph.\n",
    "\n",
    "        Returns:\n",
    "            Graph: A new graph instance with the same structure and edges.\n",
    "        \"\"\"\n",
    "        l = {}\n",
    "        for i, list_ in self.graph.items():\n",
    "            l[i] = list_.copy()\n",
    "        return Graph(l)\n",
    "\n",
    "    def contract(self, u, v):\n",
    "        \"\"\"\n",
    "        Merge vertex v into vertex u by contracting the edge between them.\n",
    "        Updates all references of v to u and removes v from the graph.\n",
    "\n",
    "        Arguments:\n",
    "            u: The vertex to keep after the merge.\n",
    "            v: The vertex to merge into u.\n",
    "        \"\"\"\n",
    "        if v not in self.graph[u] or u not in self.graph[v]:\n",
    "            return\n",
    "\n",
    "        while v in self.graph[u]:\n",
    "            self.graph[u].remove(v)\n",
    "        while u in self.graph[v]:\n",
    "            self.graph[v].remove(u)\n",
    "\n",
    "        self.graph[u].extend(self.graph[v])\n",
    "\n",
    "        for x in list(self.graph.keys()):\n",
    "            if x == v:\n",
    "                continue\n",
    "            self.graph[x] = [u if neighbor == v else neighbor for neighbor in self.graph[x]]\n",
    "\n",
    "        self.graph[u] = [x for x in self.graph[u] if x != u]\n",
    "\n",
    "        del self.graph[v]\n",
    "\n",
    "    def removeVertex(self, v):\n",
    "        \"\"\"\n",
    "        Remove a vertex and all its associated edges from the graph.\n",
    "\n",
    "        Arguments:\n",
    "            v: The vertex to be removed.\n",
    "        \"\"\"\n",
    "        if v not in self.graph:\n",
    "            return\n",
    "\n",
    "        del self.graph[v]\n",
    "        for i in self.graph.keys():\n",
    "            if v in self.graph[i]:\n",
    "                self.graph[i].remove(v)\n",
    "\n",
    "    def countEdges(self):\n",
    "        \"\"\"\n",
    "        Count the total number of edges in the undirected graph.\n",
    "\n",
    "        Returns:\n",
    "            int: The number of edges in the graph.\n",
    "        \"\"\"\n",
    "        count = 0\n",
    "        for i in self.graph.keys():\n",
    "            count += len(self.graph[i])\n",
    "        return count // 2\n"
   ]
  },
  {
   "cell_type": "markdown",
   "id": "94a6e230",
   "metadata": {},
   "source": [
    "Now we make the randomized contraction routine using the numpy random states"
   ]
  },
  {
   "cell_type": "code",
   "execution_count": 2,
   "id": "0718f21e",
   "metadata": {},
   "outputs": [],
   "source": [
    "import numpy as np\n",
    "\n",
    "def randomizedContraction(G, randomState=42):\n",
    "    \"\"\"\n",
    "    Apply Karger's randomized contraction algorithm once to estimate the minimum cut.\n",
    "\n",
    "    Arguments:\n",
    "        G (Graph): An instance of the Graph class to be contracted.\n",
    "        randomState (int): Seed for reproducibility of random choices.\n",
    "\n",
    "    Returns:\n",
    "        int: The number of edges between the two remaining supernodes, representing a cut.\n",
    "    \"\"\"\n",
    "    # Make a copy of the graph\n",
    "    g = G.copy()\n",
    "    np.random.seed(randomState)\n",
    "\n",
    "    # While there are more than 2 vertices in the graph\n",
    "    while len(g.graph) > 2:\n",
    "        # Choose a random edge\n",
    "        u = np.random.choice(list(g.graph.keys()))\n",
    "        v = np.random.choice(g.graph[u])\n",
    "        # Contract the edge\n",
    "        g.contract(u, v)\n",
    "\n",
    "    c = g.countEdges()\n",
    "    return c\n",
    "\n",
    "def trailsContraction(graph, trials=10, verbose=False, prints=5):\n",
    "    \"\"\"\n",
    "    Run multiple trials of the randomized contraction algorithm to increase the chances of finding the true minimum cut.\n",
    "\n",
    "    Args:\n",
    "        graph (Graph): The input graph on which to perform the contraction trials.\n",
    "        trials (int or bool): Number of trials to run. If True, automatically compute a high-probability trial count.\n",
    "        verbose (bool): Whether to print progress messages during execution.\n",
    "        prints (int): Frequency of printed updates when verbose is enabled.\n",
    "\n",
    "    Returns:\n",
    "        int: The smallest cut value found across all trials.\n",
    "    \"\"\"\n",
    "    if trials == True:\n",
    "        trials = len(graph.graph.keys())\n",
    "        trials = int(trials**2 * np.log(trials))\n",
    "        print('Number of trials set to', trials)\n",
    "\n",
    "    width = len(str(trials))\n",
    "    minCut = float('inf')\n",
    "\n",
    "    for i in range(trials):\n",
    "        if verbose and i % prints == 0:\n",
    "            print(f\"Trial {i:<{width}} of {trials:<{width}} --> Current best min cut: {minCut}\")\n",
    "        minCut = min(minCut, randomizedContraction(graph, randomState=i))\n",
    "\n",
    "    return minCut\n"
   ]
  },
  {
   "cell_type": "markdown",
   "id": "2af70781",
   "metadata": {},
   "source": [
    "We test our implementation using an small example"
   ]
  },
  {
   "cell_type": "code",
   "execution_count": 3,
   "id": "fe405121",
   "metadata": {},
   "outputs": [
    {
     "name": "stdout",
     "output_type": "stream",
     "text": [
      "Number of trials set to 22\n",
      "Minimum cut: 2\n"
     ]
    }
   ],
   "source": [
    "test = {\n",
    "    0: [1,2],\n",
    "    1: [0,2,3],\n",
    "    2: [0,1,3],\n",
    "    3: [1,2]\n",
    "}\n",
    "\n",
    "G_example = Graph(test)\n",
    "c = trailsContraction(G_example, trials=True)\n",
    "print(f\"Minimum cut: {c}\")"
   ]
  },
  {
   "cell_type": "markdown",
   "id": "3c7d5890",
   "metadata": {},
   "source": [
    "Now we apply it to the case given in the assignment"
   ]
  },
  {
   "cell_type": "code",
   "execution_count": 4,
   "id": "7029d47e",
   "metadata": {},
   "outputs": [
    {
     "name": "stdout",
     "output_type": "stream",
     "text": [
      "Number of vertices: 200\n",
      "Number of edges: 2517\n",
      "Trial 0   of 500 --> Current best min cut: inf\n",
      "Trial 50  of 500 --> Current best min cut: 17\n",
      "Trial 100 of 500 --> Current best min cut: 17\n",
      "Trial 150 of 500 --> Current best min cut: 17\n",
      "Trial 200 of 500 --> Current best min cut: 17\n",
      "Trial 250 of 500 --> Current best min cut: 17\n",
      "Trial 300 of 500 --> Current best min cut: 17\n",
      "Trial 350 of 500 --> Current best min cut: 17\n",
      "Trial 400 of 500 --> Current best min cut: 17\n",
      "Trial 450 of 500 --> Current best min cut: 17\n",
      "Minimum cut: 17\n"
     ]
    }
   ],
   "source": [
    "with open('kargerMinCut.txt', 'r') as f:\n",
    "    data = f.readlines()\n",
    "    g = {}\n",
    "    for line in data:\n",
    "        line = line.split()\n",
    "        if line == '':\n",
    "            continue\n",
    "        # Split the line into a list of integers\n",
    "        g[int(line[0])] = list(map(int, line))[1:]\n",
    "\n",
    "G = Graph(g)\n",
    "print(f'Number of vertices: {G.v}')\n",
    "print(f'Number of edges: {G.countEdges()}')\n",
    "\n",
    "c = trailsContraction(G, trials=500, verbose = True, prints = 50)\n",
    "print(f\"Minimum cut: {c}\")"
   ]
  }
 ],
 "metadata": {
  "kernelspec": {
   "display_name": "Python 3",
   "language": "python",
   "name": "python3"
  },
  "language_info": {
   "codemirror_mode": {
    "name": "ipython",
    "version": 3
   },
   "file_extension": ".py",
   "mimetype": "text/x-python",
   "name": "python",
   "nbconvert_exporter": "python",
   "pygments_lexer": "ipython3",
   "version": "3.11.9"
  }
 },
 "nbformat": 4,
 "nbformat_minor": 5
}
